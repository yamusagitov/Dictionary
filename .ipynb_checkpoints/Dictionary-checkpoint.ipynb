{
 "cells": [
  {
   "cell_type": "code",
   "execution_count": 1,
   "id": "9857b4a1",
   "metadata": {},
   "outputs": [],
   "source": [
    "dict ={}"
   ]
  },
  {
   "cell_type": "code",
   "execution_count": null,
   "id": "130ec049",
   "metadata": {},
   "outputs": [],
   "source": []
  },
  {
   "cell_type": "code",
   "execution_count": null,
   "id": "5faf928d",
   "metadata": {},
   "outputs": [
    {
     "name": "stdout",
     "output_type": "stream",
     "text": [
      "Что хотите? apple\n",
      "Стоимость: 25\n",
      "{'apple': 25}\n",
      "Что хотите? mango\n",
      "Стоимость: 50\n",
      "{'apple': 25, 'mango': 50}\n",
      "Что хотите? orange\n",
      "Стоимость: 24\n",
      "{'apple': 25, 'mango': 50, 'orange': 24}\n"
     ]
    }
   ],
   "source": [
    "while True:\n",
    "    fruites = input('Что хотите? ')\n",
    "    price = int(input('Стоимость: '))\n",
    "    dict.update([(fruites, price)])\n",
    "    print(dict)"
   ]
  }
 ],
 "metadata": {
  "kernelspec": {
   "display_name": "Python 3",
   "language": "python",
   "name": "python3"
  },
  "language_info": {
   "codemirror_mode": {
    "name": "ipython",
    "version": 3
   },
   "file_extension": ".py",
   "mimetype": "text/x-python",
   "name": "python",
   "nbconvert_exporter": "python",
   "pygments_lexer": "ipython3",
   "version": "3.9.5"
  }
 },
 "nbformat": 4,
 "nbformat_minor": 5
}
